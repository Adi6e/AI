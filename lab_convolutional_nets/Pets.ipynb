{
 "cells": [
  {
   "cell_type": "markdown",
   "metadata": {
    "id": "C7xaUiMnmyO_"
   },
   "source": [
    "# ЛР 3 (Задание 2)"
   ]
  },
  {
   "cell_type": "code",
   "execution_count": 2,
   "metadata": {
    "id": "9uZcaGxHmurv"
   },
   "outputs": [],
   "source": [
    "import matplotlib.pyplot as plt\n",
    "import numpy as np\n",
    "import os\n",
    "import shutil\n",
    "import PIL\n",
    "\n",
    "import torch\n",
    "from torchvision import datasets, models, transforms\n",
    "from torch.utils.data import Dataset, DataLoader\n",
    "import torch.nn as nn"
   ]
  },
  {
   "cell_type": "code",
   "execution_count": 3,
   "metadata": {
    "id": "fiRzun4rMxP-",
    "scrolled": true
   },
   "outputs": [],
   "source": [
    "random_state = 66\n",
    "np.random.seed(random_state)\n",
    "torch.random.manual_seed(random_state)\n",
    "torch.cuda.random.manual_seed_all(random_state);"
   ]
  },
  {
   "cell_type": "code",
   "execution_count": 4,
   "metadata": {
    "colab": {
     "base_uri": "https://localhost:8080/"
    },
    "id": "OYdjm-NsMyKU",
    "outputId": "e9e4e0aa-700f-4d0e-9959-11edd18a7eb3"
   },
   "outputs": [
    {
     "name": "stdout",
     "output_type": "stream",
     "text": [
      "cuda\n"
     ]
    }
   ],
   "source": [
    "device = 'cuda' if torch.cuda.is_available() else 'cpu'\n",
    "print(device)"
   ]
  },
  {
   "cell_type": "markdown",
   "metadata": {
    "id": "1gYfHh5prCAY"
   },
   "source": [
    "## Загрузка датасета\n",
    "### Oxford pets"
   ]
  },
  {
   "cell_type": "code",
   "execution_count": 5,
   "metadata": {
    "colab": {
     "base_uri": "https://localhost:8080/"
    },
    "id": "Vd8AuIYOmyly",
    "outputId": "2a1a57d2-70ae-4d0b-eac7-212c02c59d14"
   },
   "outputs": [
    {
     "name": "stdout",
     "output_type": "stream",
     "text": [
      "--2022-06-04 23:50:48--  https://mslearntensorflowlp.blob.core.windows.net/data/oxpets_images.tar.gz\n",
      "Resolving mslearntensorflowlp.blob.core.windows.net (mslearntensorflowlp.blob.core.windows.net)... 20.150.90.68\n",
      "Connecting to mslearntensorflowlp.blob.core.windows.net (mslearntensorflowlp.blob.core.windows.net)|20.150.90.68|:443... connected.\n",
      "HTTP request sent, awaiting response... 200 OK\n",
      "Length: 791918971 (755M) [application/x-gzip]\n",
      "Saving to: ‘oxpets_images.tar.gz’\n",
      "\n",
      "oxpets_images.tar.g 100%[===================>] 755.23M  28.3MB/s    in 26s     \n",
      "\n",
      "2022-06-04 23:51:15 (28.5 MB/s) - ‘oxpets_images.tar.gz’ saved [791918971/791918971]\n",
      "\n"
     ]
    }
   ],
   "source": [
    "!wget https://mslearntensorflowlp.blob.core.windows.net/data/oxpets_images.tar.gz\n",
    "!tar xfz oxpets_images.tar.gz\n",
    "!rm oxpets_images.tar.gz"
   ]
  },
  {
   "cell_type": "markdown",
   "metadata": {
    "id": "RWccO8B4DAv5"
   },
   "source": [
    "Так как исходный датасет содержит одну папку со всеми картинками, нам необходимо вручную создать папки под классы и отсортировать все картинки в эти папки. Это мы делаем для того, чтобы корректно работали встроенные функции для считывания данных."
   ]
  },
  {
   "cell_type": "code",
   "execution_count": 6,
   "metadata": {
    "id": "_TsEBimJDSqq"
   },
   "outputs": [],
   "source": [
    "images = os.listdir('images')"
   ]
  },
  {
   "cell_type": "code",
   "execution_count": 7,
   "metadata": {
    "id": "x_21_muLFYnV"
   },
   "outputs": [],
   "source": [
    "def get_class(string):\n",
    "    for i, ch in enumerate(string):\n",
    "        if ch.isdigit():\n",
    "            return string[:i-1]"
   ]
  },
  {
   "cell_type": "code",
   "execution_count": 8,
   "metadata": {
    "colab": {
     "base_uri": "https://localhost:8080/"
    },
    "id": "H0BVTsb4KsO-",
    "outputId": "ce38bdf0-deb4-475a-ee3c-ed6630137a8e"
   },
   "outputs": [
    {
     "data": {
      "text/plain": [
       "['Russian_Blue',\n",
       " 'german_shorthaired',\n",
       " 'american_bulldog',\n",
       " 'wheaten_terrier',\n",
       " 'pug',\n",
       " 'shiba_inu',\n",
       " 'boxer',\n",
       " 'miniature_pinscher',\n",
       " 'saint_bernard',\n",
       " 'english_setter',\n",
       " 'Egyptian_Mau',\n",
       " 'scottish_terrier',\n",
       " 'keeshond',\n",
       " 'basset_hound',\n",
       " 'japanese_chin',\n",
       " 'Ragdoll',\n",
       " 'beagle',\n",
       " 'Bengal',\n",
       " 'havanese',\n",
       " 'leonberger',\n",
       " 'yorkshire_terrier',\n",
       " 'newfoundland',\n",
       " 'Siamese',\n",
       " 'pomeranian',\n",
       " 'British_Shorthair',\n",
       " 'Sphynx',\n",
       " 'Birman',\n",
       " 'Maine_Coon',\n",
       " 'american_pit_bull_terrier',\n",
       " 'samoyed',\n",
       " 'great_pyrenees',\n",
       " 'chihuahua',\n",
       " 'english_cocker_spaniel',\n",
       " 'Abyssinian',\n",
       " 'staffordshire_bull_terrier',\n",
       " 'Bombay',\n",
       " 'Persian']"
      ]
     },
     "execution_count": 8,
     "metadata": {},
     "output_type": "execute_result"
    }
   ],
   "source": [
    "classes = list(set([get_class(img) for img in images if get_class(img) is not None]))\n",
    "classes"
   ]
  },
  {
   "cell_type": "markdown",
   "metadata": {
    "id": "EnfAt-F8NwgM"
   },
   "source": [
    "### Сплит датасета на трейн и тест.  \n",
    "Исходный датасет разобьем на обучающий и тестовой, под тест выделим 25 процентов."
   ]
  },
  {
   "cell_type": "code",
   "execution_count": 47,
   "metadata": {
    "id": "g60nGN22Ky_h"
   },
   "outputs": [],
   "source": [
    "os.makedirs('./dataset')\n",
    "os.makedirs('./dataset/train')\n",
    "os.makedirs('./dataset/test')\n",
    "test_size = 0.25\n",
    "\n",
    "for cl in classes:\n",
    "    os.makedirs(os.path.join('dataset/train', cl))\n",
    "    os.makedirs(os.path.join('dataset/test', cl))"
   ]
  },
  {
   "cell_type": "code",
   "execution_count": 48,
   "metadata": {
    "id": "hhPWTHzxEHES"
   },
   "outputs": [],
   "source": [
    "for i, image in enumerate(images):\n",
    "    cls = get_class(image)\n",
    "    if cls is None:\n",
    "        continue\n",
    "    if np.random.random(1) < 1 - test_size:\n",
    "        shutil.copy(os.path.join('images', image), os.path.join('dataset/train', cls))\n",
    "    else:\n",
    "        shutil.copy(os.path.join('images', image), os.path.join('dataset/test', cls))"
   ]
  },
  {
   "cell_type": "markdown",
   "metadata": {
    "id": "5vgw_PG5L4m4"
   },
   "source": [
    "Преобразуем картинки к тензору, затем сделаем нормировку."
   ]
  },
  {
   "cell_type": "code",
   "execution_count": 49,
   "metadata": {
    "id": "XbncTM4PrK1A"
   },
   "outputs": [],
   "source": [
    "transform = transforms.Compose([\n",
    "                                transforms.Resize((128, 128)),\n",
    "                                transforms.ToTensor(),\n",
    "                                transforms.Normalize((0.5, 0.5, 0.5), (0.5, 0.5, 0.5))\n",
    "                                ])\n",
    "\n",
    "train_dataset = datasets.ImageFolder('/content/dataset/train', transform=transform)\n",
    "test_dataset = datasets.ImageFolder('/content/dataset/test', transform=transform)"
   ]
  },
  {
   "cell_type": "code",
   "execution_count": 50,
   "metadata": {
    "colab": {
     "base_uri": "https://localhost:8080/"
    },
    "id": "imhcue4ZroP3",
    "outputId": "259f7350-2063-448f-aeb0-c68de90b9498"
   },
   "outputs": [
    {
     "data": {
      "text/plain": [
       "(5584, 1806)"
      ]
     },
     "execution_count": 50,
     "metadata": {},
     "output_type": "execute_result"
    }
   ],
   "source": [
    "len(train_dataset), len(test_dataset)"
   ]
  },
  {
   "cell_type": "markdown",
   "metadata": {
    "id": "PAuPBoznOyRY"
   },
   "source": [
    "Даталоудеры."
   ]
  },
  {
   "cell_type": "code",
   "execution_count": 32,
   "metadata": {
    "id": "ZnarJQXlL-e3"
   },
   "outputs": [],
   "source": [
    "batch_size = 64\n",
    "\n",
    "train_loader = DataLoader(train_dataset, batch_size=batch_size, shuffle=True, drop_last=True)\n",
    "test_loader = DataLoader(test_dataset, batch_size=batch_size, shuffle=False, drop_last=True)"
   ]
  },
  {
   "cell_type": "markdown",
   "metadata": {
    "id": "SLSymW84PWJi"
   },
   "source": [
    "### Функция для обучения модели"
   ]
  },
  {
   "cell_type": "code",
   "execution_count": 19,
   "metadata": {
    "id": "hmx2ILJRPMSc"
   },
   "outputs": [],
   "source": [
    "def train_model(model, train_loader, test_loader, epochs_num, optimizer, criterion, device):\n",
    "    train_loss_history = []\n",
    "    test_loss_history = []\n",
    "    train_acc_history = []\n",
    "    test_acc_history = []\n",
    "\n",
    "    for epoch in range(epochs_num):\n",
    "        cur_train_acc = 0\n",
    "        cur_test_acc = 0\n",
    "        cur_train_loss = 0\n",
    "        cur_test_loss = 0\n",
    "\n",
    "        model.train()\n",
    "        for X_batch, y_batch in train_loader:\n",
    "            X_batch = X_batch.to(device)\n",
    "            y_batch = y_batch.to(device)\n",
    "            \n",
    "            y_pred = model(X_batch)\n",
    "            loss = criterion(y_pred, y_batch)\n",
    "            cur_train_loss += loss.item()\n",
    "\n",
    "            optimizer.zero_grad()\n",
    "            loss.backward()\n",
    "            optimizer.step()\n",
    "\n",
    "            cur_train_acc += (y_batch.squeeze() == torch.argmax(y_pred, axis=1)).cpu().numpy().sum()\n",
    "\n",
    "        model.eval()\n",
    "        with torch.no_grad():\n",
    "            for X_batch, y_batch in test_loader:\n",
    "                X_batch = X_batch.to(device)\n",
    "                y_batch = y_batch.to(device)\n",
    "                \n",
    "                y_pred = model(X_batch)\n",
    "                cur_test_acc += (y_batch.squeeze() == torch.argmax(y_pred, axis=1)).cpu().numpy().sum()\n",
    "\n",
    "                loss = criterion(y_pred, y_batch)\n",
    "                cur_test_loss += loss.cpu().item()\n",
    "\n",
    "        train_acc_history.append(cur_train_acc / (len(train_loader) * batch_size))\n",
    "        test_acc_history.append(cur_test_acc / (len(test_loader) * batch_size))\n",
    "        train_loss_history.append(cur_train_loss / (len(train_loader) * batch_size))\n",
    "        test_loss_history.append(cur_test_loss / (len(test_loader) * batch_size))\n",
    "    \n",
    "    return train_loss_history, test_loss_history, train_acc_history, test_acc_history"
   ]
  },
  {
   "cell_type": "markdown",
   "metadata": {
    "id": "QMNc4iv3JNB4"
   },
   "source": [
    "### Функции для построения графиков лосса и точности."
   ]
  },
  {
   "cell_type": "code",
   "execution_count": 20,
   "metadata": {
    "id": "mpkYCsF1PYR0"
   },
   "outputs": [],
   "source": [
    "def plot_loss_history(train_loss_history, test_loss_history):\n",
    "    plt.figure(figsize=(10, 8))\n",
    "    plt.title(\"Loss\")\n",
    "    plt.plot(range(1, len(train_loss_history) + 1), train_loss_history, linewidth=2, label='train loss')\n",
    "    plt.plot(range(1, len(test_loss_history) + 1), test_loss_history, linewidth=2, label='test loss')\n",
    "    plt.xlabel(\"Epoch\")\n",
    "    plt.legend()\n",
    "    plt.show()"
   ]
  },
  {
   "cell_type": "code",
   "execution_count": 21,
   "metadata": {
    "id": "rOOvDn9GPaSa"
   },
   "outputs": [],
   "source": [
    "def plot_acc_history(train_acc_history, test_acc_history):\n",
    "    plt.figure(figsize=(10, 8))\n",
    "    plt.title(\"Accuracy\")\n",
    "    plt.plot(range(1, len(train_acc_history) + 1), train_acc_history, linewidth=2, label='train accuracy')\n",
    "    plt.plot(range(1, len(test_acc_history) + 1), test_acc_history, linewidth=2, label='test accuracy')\n",
    "    plt.xlabel(\"Epoch\")\n",
    "    plt.legend()\n",
    "    plt.show()"
   ]
  },
  {
   "cell_type": "markdown",
   "metadata": {
    "id": "s9i6H6ZaP1xR"
   },
   "source": [
    "Построение матрицы неточностей:"
   ]
  },
  {
   "cell_type": "code",
   "execution_count": 22,
   "metadata": {
    "id": "266gNRLlQLKk"
   },
   "outputs": [],
   "source": [
    "import seaborn as sns\n",
    "import pandas as pd\n",
    "import matplotlib.pyplot as plt"
   ]
  },
  {
   "cell_type": "code",
   "execution_count": 23,
   "metadata": {
    "id": "pRuyP10iPbze"
   },
   "outputs": [],
   "source": [
    "from sklearn.metrics import confusion_matrix\n",
    "\n",
    "def plot_confusion_matrix(model, test_loader):\n",
    "    preds = None\n",
    "    reals = None\n",
    "    model.eval()\n",
    "    with torch.no_grad():\n",
    "        for X_batch, y_batch in test_loader:\n",
    "            X_batch = X_batch.to(device)\n",
    "            y_batch = y_batch.to(device)\n",
    "\n",
    "            y_pred = model(X_batch)\n",
    "            if preds is None:\n",
    "                preds = torch.argmax(y_pred, axis=1).cpu().numpy()\n",
    "                reals = y_batch.cpu().numpy()\n",
    "            else:\n",
    "                preds = np.hstack([preds, torch.argmax(y_pred, axis=1).cpu().numpy()])\n",
    "                reals = np.hstack([reals, y_batch.cpu().numpy()])\n",
    "\n",
    "    confustion_matrix = confusion_matrix(reals, preds)\n",
    "    df_cm = pd.DataFrame(confustion_matrix, index = [i for i in classes], columns = [i for i in classes])\n",
    "    plt.figure(figsize = (15, 15))\n",
    "    sns.heatmap(df_cm, annot=True, cmap='Blues')\n",
    "    plt.show()"
   ]
  },
  {
   "cell_type": "markdown",
   "metadata": {
    "id": "JlcPjfx7RGQt"
   },
   "source": [
    "## Обучение моделей"
   ]
  },
  {
   "cell_type": "markdown",
   "metadata": {
    "id": "bCPxNvVQRJN8"
   },
   "source": [
    "### VGG16"
   ]
  },
  {
   "cell_type": "code",
   "execution_count": 24,
   "metadata": {
    "colab": {
     "base_uri": "https://localhost:8080/",
     "height": 66,
     "referenced_widgets": [
      "fd6b5dc314ac4d9daf40ecc5afcd25f1",
      "8d2f310cc4844f1a87fbecf0240c6d2a",
      "b6c763c5ee774acbaaa7358aa3ef98c0",
      "7d3f2e3784fe469080e03c7e1ed6e121",
      "f94f458f61e1449580867a4421e6732e",
      "a8abca42108744d5b129cd45e447be4b",
      "73b798e99ab14aaeb0af4ea52f2d00f5",
      "19d47a27ea3849e9a16ba39e51b6d99a",
      "d845f9b3e86c4126a55dae30fd95c0bd",
      "28e7390465b749958902b060178a84d7",
      "f827be94a8fd49d4a61de7b9ad1e3fa9"
     ]
    },
    "id": "cwGlHnI1QPQB",
    "outputId": "2db3628d-672a-4bc2-ada3-19369fdb5d43"
   },
   "outputs": [
    {
     "name": "stderr",
     "output_type": "stream",
     "text": [
      "Downloading: \"https://download.pytorch.org/models/vgg16-397923af.pth\" to /root/.cache/torch/hub/checkpoints/vgg16-397923af.pth\n"
     ]
    },
    {
     "data": {
      "application/vnd.jupyter.widget-view+json": {
       "model_id": "fd6b5dc314ac4d9daf40ecc5afcd25f1",
       "version_major": 2,
       "version_minor": 0
      },
      "text/plain": [
       "  0%|          | 0.00/528M [00:00<?, ?B/s]"
      ]
     },
     "metadata": {},
     "output_type": "display_data"
    }
   ],
   "source": [
    "vgg = models.vgg16(pretrained=True)"
   ]
  },
  {
   "cell_type": "code",
   "execution_count": 26,
   "metadata": {
    "id": "ar01x_qUTdFy"
   },
   "outputs": [],
   "source": [
    "vgg.classifier[6] = nn.Linear(4096, len(classes))"
   ]
  },
  {
   "cell_type": "code",
   "execution_count": 27,
   "metadata": {
    "id": "hKXoqYfKTweU"
   },
   "outputs": [],
   "source": [
    "vgg = vgg.to(device)\n",
    "criterion = nn.CrossEntropyLoss()\n",
    "optimizer = torch.optim.Adam(vgg.parameters(), lr=1e-5)\n",
    "\n",
    "epochs = 5"
   ]
  },
  {
   "cell_type": "code",
   "execution_count": 28,
   "metadata": {
    "id": "S905ZPYBUETC"
   },
   "outputs": [],
   "source": [
    "vgg_stats = train_model(vgg, train_loader, test_loader, epochs, optimizer, criterion, device)"
   ]
  },
  {
   "cell_type": "markdown",
   "metadata": {
    "id": "hSfTktBxLRNm"
   },
   "source": [
    "Графики лосса на обучающей и тестовой выборке"
   ]
  },
  {
   "cell_type": "code",
   "execution_count": 29,
   "metadata": {
    "colab": {
     "base_uri": "https://localhost:8080/",
     "height": 513
    },
    "id": "CcHHFj5tU49a",
    "outputId": "04f5ff02-579b-4e05-97b2-f036d9a6df15"
   },
   "outputs": [
    {
     "data": {
      "image/png": "[encoded data removed]",
      "text/plain": [
       "<Figure size 720x576 with 1 Axes>"
      ]
     },
     "metadata": {
      "needs_background": "light"
     },
     "output_type": "display_data"
    }
   ],
   "source": [
    "plot_loss_history(vgg_stats[0], vgg_stats[1])"
   ]
  },
  {
   "cell_type": "markdown",
   "metadata": {
    "id": "jhMhkVflM4Pt"
   },
   "source": [
    "Графики точности на обучающей и тестовой выборке."
   ]
  },
  {
   "cell_type": "code",
   "execution_count": 30,
   "metadata": {
    "colab": {
     "base_uri": "https://localhost:8080/",
     "height": 513
    },
    "id": "xs1ont0GXwVs",
    "outputId": "c17747ab-11cd-4260-f66e-2e8241ecfde1"
   },
   "outputs": [
    {
     "data": {
      "image/png": "[encoded data removed]",
      "text/plain": [
       "<Figure size 720x576 with 1 Axes>"
      ]
     },
     "metadata": {
      "needs_background": "light"
     },
     "output_type": "display_data"
    }
   ],
   "source": [
    "plot_acc_history(vgg_stats[2], vgg_stats[3])"
   ]
  },
  {
   "cell_type": "code",
   "execution_count": 41,
   "metadata": {
    "colab": {
     "base_uri": "https://localhost:8080/"
    },
    "id": "9FXSd04qXzwA",
    "outputId": "0e35c2b4-d83b-4b13-f6da-45cecac9e105"
   },
   "outputs": [
    {
     "name": "stdout",
     "output_type": "stream",
     "text": [
      "Accuracy = 0.8345905172413793\n"
     ]
    }
   ],
   "source": [
    "print('Accuracy =', vgg_stats[3][-1])"
   ]
  },
  {
   "cell_type": "markdown",
   "metadata": {
    "id": "bRKLoIWcZo9H"
   },
   "source": [
    "### ResNet18"
   ]
  },
  {
   "cell_type": "code",
   "execution_count": 33,
   "metadata": {
    "colab": {
     "base_uri": "https://localhost:8080/",
     "height": 66,
     "referenced_widgets": [
      "64dd4e950c8146f784cd3b5f5703b1f9",
      "d2e8758ae0ec4618a7cfabc926044e67",
      "9a09313140dd445ba3af47848329cd41",
      "a557a6e4f21c433686a699021c889eec",
      "12a115254d2e4a3c8484cfb47fbaef23",
      "6c1897a2899245f0a1adfd29b556e573",
      "fc38870e92474d4dad5cfbb9a52baf7d",
      "1a25e982224a42669fc3db8cee1ba321",
      "1094543112fb41618d836a08c7ad5953",
      "91a655d2eb87463cbc460a5f497df7b7",
      "51e6bfdde6bc4376b4f75ba3071d2b10"
     ]
    },
    "id": "U53YP5USZoLE",
    "outputId": "f564e1a8-850c-4ac2-9ad7-0194614dcd64"
   },
   "outputs": [
    {
     "name": "stderr",
     "output_type": "stream",
     "text": [
      "Downloading: \"https://download.pytorch.org/models/resnet18-f37072fd.pth\" to /root/.cache/torch/hub/checkpoints/resnet18-f37072fd.pth\n"
     ]
    },
    {
     "data": {
      "application/vnd.jupyter.widget-view+json": {
       "model_id": "64dd4e950c8146f784cd3b5f5703b1f9",
       "version_major": 2,
       "version_minor": 0
      },
      "text/plain": [
       "  0%|          | 0.00/44.7M [00:00<?, ?B/s]"
      ]
     },
     "metadata": {},
     "output_type": "display_data"
    }
   ],
   "source": [
    "rn = models.resnet18(pretrained=True)"
   ]
  },
  {
   "cell_type": "code",
   "execution_count": 35,
   "metadata": {
    "id": "gY0EnWQ9Z3kn"
   },
   "outputs": [],
   "source": [
    "rn.fc = nn.Linear(512, len(classes))"
   ]
  },
  {
   "cell_type": "code",
   "execution_count": 36,
   "metadata": {
    "id": "MdNstmXOZ6sl"
   },
   "outputs": [],
   "source": [
    "rn = rn.to(device)\n",
    "criterion = nn.CrossEntropyLoss()\n",
    "optimizer = torch.optim.Adam(rn.parameters(), lr=1e-4)\n",
    "\n",
    "epochs = 5"
   ]
  },
  {
   "cell_type": "code",
   "execution_count": 37,
   "metadata": {
    "id": "9Ps5m06FaFtd"
   },
   "outputs": [],
   "source": [
    "rn_stats = train_model(rn, train_loader, test_loader, epochs, optimizer, criterion, device)"
   ]
  },
  {
   "cell_type": "markdown",
   "metadata": {
    "id": "jqjBKwLbNBrE"
   },
   "source": [
    "Графики лосса на обучающей и тестовой выборке."
   ]
  },
  {
   "cell_type": "code",
   "execution_count": 38,
   "metadata": {
    "colab": {
     "base_uri": "https://localhost:8080/",
     "height": 513
    },
    "id": "DHoCVw3aaKZ4",
    "outputId": "fed6b192-321c-46b5-b7f6-627f558d61b1"
   },
   "outputs": [
    {
     "data": {
      "image/png": "[encoded data removed]",
      "text/plain": [
       "<Figure size 720x576 with 1 Axes>"
      ]
     },
     "metadata": {
      "needs_background": "light"
     },
     "output_type": "display_data"
    }
   ],
   "source": [
    "plot_loss_history(rn_stats[0], rn_stats[1])"
   ]
  },
  {
   "cell_type": "markdown",
   "metadata": {
    "id": "tgLgzu-YNIJG"
   },
   "source": [
    "Графики точности на обучающей и тестовой выборке."
   ]
  },
  {
   "cell_type": "code",
   "execution_count": 39,
   "metadata": {
    "colab": {
     "base_uri": "https://localhost:8080/",
     "height": 513
    },
    "id": "mzIT44yzaNlx",
    "outputId": "8c8721d2-a47d-4435-f5d1-16364a7fc72b"
   },
   "outputs": [
    {
     "data": {
      "image/png": "[encoded data removed]",
      "text/plain": [
       "<Figure size 720x576 with 1 Axes>"
      ]
     },
     "metadata": {
      "needs_background": "light"
     },
     "output_type": "display_data"
    }
   ],
   "source": [
    "plot_acc_history(rn_stats[2], rn_stats[3])"
   ]
  },
  {
   "cell_type": "code",
   "execution_count": 40,
   "metadata": {
    "colab": {
     "base_uri": "https://localhost:8080/"
    },
    "id": "a14E4aruaPy3",
    "outputId": "f4ef3fc5-51a9-4f35-9be1-7d1560c1445d"
   },
   "outputs": [
    {
     "name": "stdout",
     "output_type": "stream",
     "text": [
      "Accuracy = 0.8010416666666667\n"
     ]
    }
   ],
   "source": [
    "print('Accuracy =', rn_stats[3][-1])"
   ]
  },
  {
   "cell_type": "markdown",
   "metadata": {
    "id": "mtxoYg2ePwu5"
   },
   "source": [
    "Построим для VGG16 матрицу неточности."
   ]
  },
  {
   "cell_type": "code",
   "execution_count": 43,
   "metadata": {
    "colab": {
     "base_uri": "https://localhost:8080/",
     "height": 978
    },
    "id": "g-1SLdITbHTB",
    "outputId": "f3e64056-60b7-44b2-8e2b-f78802e984ec"
   },
   "outputs": [
    {
     "data": {
      "image/png": "[encoded data removed]",
      "text/plain": [
       "<Figure size 1080x1080 with 2 Axes>"
      ]
     },
     "metadata": {
      "needs_background": "light"
     },
     "output_type": "display_data"
    }
   ],
   "source": [
    "plot_confusion_matrix(vgg, test_loader)"
   ]
  },
  {
   "cell_type": "markdown",
   "metadata": {
    "id": "nxy_wRl5Qdb3"
   },
   "source": [
    "По матрице неточности видим, что модель хорошо справилась с задачей, однако две породы собак (американский бульдог и мопс) она предсказывает хуже, чем остальные."
   ]
  },
  {
   "cell_type": "markdown",
   "metadata": {
    "id": "OQ0B0skhOZtk"
   },
   "source": [
    "### Функция подсчёта топ 3 точности"
   ]
  },
  {
   "cell_type": "code",
   "execution_count": 44,
   "metadata": {
    "id": "1W1NZ8_OQJxo"
   },
   "outputs": [],
   "source": [
    "from sklearn.metrics import top_k_accuracy_score\n",
    "\n",
    "def get_top_k_accuracy(model, val, k):\n",
    "    preds = None\n",
    "    reals = None\n",
    "    model.eval()\n",
    "    with torch.no_grad():\n",
    "        for X_batch, y_batch in val:\n",
    "            X_batch = X_batch.to(device)\n",
    "            y_batch = y_batch.to(device)\n",
    "\n",
    "            y_pred = model(X_batch)\n",
    "            if preds is None:\n",
    "                preds = y_pred.cpu().numpy()\n",
    "                reals = y_batch.cpu().numpy()\n",
    "            else:\n",
    "                preds = np.vstack([preds, y_pred.cpu().numpy()])\n",
    "                reals = np.concatenate([reals, y_batch.cpu().numpy()])\n",
    "    return top_k_accuracy_score(reals, preds, k=k)"
   ]
  },
  {
   "cell_type": "code",
   "execution_count": 45,
   "metadata": {
    "colab": {
     "base_uri": "https://localhost:8080/"
    },
    "id": "84j767qNRQ5O",
    "outputId": "ce177f2d-3e45-4c26-cf2a-386bb0979da6"
   },
   "outputs": [
    {
     "data": {
      "text/plain": [
       "0.9664536741214057"
      ]
     },
     "execution_count": 45,
     "metadata": {},
     "output_type": "execute_result"
    }
   ],
   "source": [
    "get_top_k_accuracy(vgg, test_loader, 3)"
   ]
  },
  {
   "cell_type": "markdown",
   "metadata": {
    "id": "BynXeQzHVzZP"
   },
   "source": [
    "Видим, что правильный ответ находится в топ 3 вариантах модели в 97% случаев."
   ]
  },
  {
   "cell_type": "markdown",
   "metadata": {
    "id": "IMs1-d2-OyU0"
   },
   "source": [
    "К сожалению, не хватает времени на подсчёт точности бинарной классификации("
   ]
  }
 ],
 "metadata": {
  "accelerator": "GPU",
  "colab": {
   "collapsed_sections": [],
   "name": "Pets.ipynb",
   "provenance": []
  },
  "kernelspec": {
   "display_name": "Python 3 (ipykernel)",
   "language": "python",
   "name": "python3"
  },
  "language_info": {
   "codemirror_mode": {
    "name": "ipython",
    "version": 3
   },
   "file_extension": ".py",
   "mimetype": "text/x-python",
   "name": "python",
   "nbconvert_exporter": "python",
   "pygments_lexer": "ipython3",
   "version": "3.9.8"
  },
  "widgets": {
   "application/vnd.jupyter.widget-state+json": {
    "1094543112fb41618d836a08c7ad5953": {
     "model_module": "@jupyter-widgets/controls",
     "model_module_version": "1.5.0",
     "model_name": "ProgressStyleModel",
     "state": {
      "_model_module": "@jupyter-widgets/controls",
      "_model_module_version": "1.5.0",
      "_model_name": "ProgressStyleModel",
      "_view_count": null,
      "_view_module": "@jupyter-widgets/base",
      "_view_module_version": "1.2.0",
      "_view_name": "StyleView",
      "bar_color": null,
      "description_width": ""
     }
    },
    "12a115254d2e4a3c8484cfb47fbaef23": {
     "model_module": "@jupyter-widgets/base",
     "model_module_version": "1.2.0",
     "model_name": "LayoutModel",
     "state": {
      "_model_module": "@jupyter-widgets/base",
      "_model_module_version": "1.2.0",
      "_model_name": "LayoutModel",
      "_view_count": null,
      "_view_module": "@jupyter-widgets/base",
      "_view_module_version": "1.2.0",
      "_view_name": "LayoutView",
      "align_content": null,
      "align_items": null,
      "align_self": null,
      "border": null,
      "bottom": null,
      "display": null,
      "flex": null,
      "flex_flow": null,
      "grid_area": null,
      "grid_auto_columns": null,
      "grid_auto_flow": null,
      "grid_auto_rows": null,
      "grid_column": null,
      "grid_gap": null,
      "grid_row": null,
      "grid_template_areas": null,
      "grid_template_columns": null,
      "grid_template_rows": null,
      "height": null,
      "justify_content": null,
      "justify_items": null,
      "left": null,
      "margin": null,
      "max_height": null,
      "max_width": null,
      "min_height": null,
      "min_width": null,
      "object_fit": null,
      "object_position": null,
      "order": null,
      "overflow": null,
      "overflow_x": null,
      "overflow_y": null,
      "padding": null,
      "right": null,
      "top": null,
      "visibility": null,
      "width": null
     }
    },
    "19d47a27ea3849e9a16ba39e51b6d99a": {
     "model_module": "@jupyter-widgets/base",
     "model_module_version": "1.2.0",
     "model_name": "LayoutModel",
     "state": {
      "_model_module": "@jupyter-widgets/base",
      "_model_module_version": "1.2.0",
      "_model_name": "LayoutModel",
      "_view_count": null,
      "_view_module": "@jupyter-widgets/base",
      "_view_module_version": "1.2.0",
      "_view_name": "LayoutView",
      "align_content": null,
      "align_items": null,
      "align_self": null,
      "border": null,
      "bottom": null,
      "display": null,
      "flex": null,
      "flex_flow": null,
      "grid_area": null,
      "grid_auto_columns": null,
      "grid_auto_flow": null,
      "grid_auto_rows": null,
      "grid_column": null,
      "grid_gap": null,
      "grid_row": null,
      "grid_template_areas": null,
      "grid_template_columns": null,
      "grid_template_rows": null,
      "height": null,
      "justify_content": null,
      "justify_items": null,
      "left": null,
      "margin": null,
      "max_height": null,
      "max_width": null,
      "min_height": null,
      "min_width": null,
      "object_fit": null,
      "object_position": null,
      "order": null,
      "overflow": null,
      "overflow_x": null,
      "overflow_y": null,
      "padding": null,
      "right": null,
      "top": null,
      "visibility": null,
      "width": null
     }
    },
    "1a25e982224a42669fc3db8cee1ba321": {
     "model_module": "@jupyter-widgets/base",
     "model_module_version": "1.2.0",
     "model_name": "LayoutModel",
     "state": {
      "_model_module": "@jupyter-widgets/base",
      "_model_module_version": "1.2.0",
      "_model_name": "LayoutModel",
      "_view_count": null,
      "_view_module": "@jupyter-widgets/base",
      "_view_module_version": "1.2.0",
      "_view_name": "LayoutView",
      "align_content": null,
      "align_items": null,
      "align_self": null,
      "border": null,
      "bottom": null,
      "display": null,
      "flex": null,
      "flex_flow": null,
      "grid_area": null,
      "grid_auto_columns": null,
      "grid_auto_flow": null,
      "grid_auto_rows": null,
      "grid_column": null,
      "grid_gap": null,
      "grid_row": null,
      "grid_template_areas": null,
      "grid_template_columns": null,
      "grid_template_rows": null,
      "height": null,
      "justify_content": null,
      "justify_items": null,
      "left": null,
      "margin": null,
      "max_height": null,
      "max_width": null,
      "min_height": null,
      "min_width": null,
      "object_fit": null,
      "object_position": null,
      "order": null,
      "overflow": null,
      "overflow_x": null,
      "overflow_y": null,
      "padding": null,
      "right": null,
      "top": null,
      "visibility": null,
      "width": null
     }
    },
    "28e7390465b749958902b060178a84d7": {
     "model_module": "@jupyter-widgets/base",
     "model_module_version": "1.2.0",
     "model_name": "LayoutModel",
     "state": {
      "_model_module": "@jupyter-widgets/base",
      "_model_module_version": "1.2.0",
      "_model_name": "LayoutModel",
      "_view_count": null,
      "_view_module": "@jupyter-widgets/base",
      "_view_module_version": "1.2.0",
      "_view_name": "LayoutView",
      "align_content": null,
      "align_items": null,
      "align_self": null,
      "border": null,
      "bottom": null,
      "display": null,
      "flex": null,
      "flex_flow": null,
      "grid_area": null,
      "grid_auto_columns": null,
      "grid_auto_flow": null,
      "grid_auto_rows": null,
      "grid_column": null,
      "grid_gap": null,
      "grid_row": null,
      "grid_template_areas": null,
      "grid_template_columns": null,
      "grid_template_rows": null,
      "height": null,
      "justify_content": null,
      "justify_items": null,
      "left": null,
      "margin": null,
      "max_height": null,
      "max_width": null,
      "min_height": null,
      "min_width": null,
      "object_fit": null,
      "object_position": null,
      "order": null,
      "overflow": null,
      "overflow_x": null,
      "overflow_y": null,
      "padding": null,
      "right": null,
      "top": null,
      "visibility": null,
      "width": null
     }
    },
    "51e6bfdde6bc4376b4f75ba3071d2b10": {
     "model_module": "@jupyter-widgets/controls",
     "model_module_version": "1.5.0",
     "model_name": "DescriptionStyleModel",
     "state": {
      "_model_module": "@jupyter-widgets/controls",
      "_model_module_version": "1.5.0",
      "_model_name": "DescriptionStyleModel",
      "_view_count": null,
      "_view_module": "@jupyter-widgets/base",
      "_view_module_version": "1.2.0",
      "_view_name": "StyleView",
      "description_width": ""
     }
    },
    "64dd4e950c8146f784cd3b5f5703b1f9": {
     "model_module": "@jupyter-widgets/controls",
     "model_module_version": "1.5.0",
     "model_name": "HBoxModel",
     "state": {
      "_dom_classes": [],
      "_model_module": "@jupyter-widgets/controls",
      "_model_module_version": "1.5.0",
      "_model_name": "HBoxModel",
      "_view_count": null,
      "_view_module": "@jupyter-widgets/controls",
      "_view_module_version": "1.5.0",
      "_view_name": "HBoxView",
      "box_style": "",
      "children": [
       "IPY_MODEL_d2e8758ae0ec4618a7cfabc926044e67",
       "IPY_MODEL_9a09313140dd445ba3af47848329cd41",
       "IPY_MODEL_a557a6e4f21c433686a699021c889eec"
      ],
      "layout": "IPY_MODEL_12a115254d2e4a3c8484cfb47fbaef23"
     }
    },
    "6c1897a2899245f0a1adfd29b556e573": {
     "model_module": "@jupyter-widgets/base",
     "model_module_version": "1.2.0",
     "model_name": "LayoutModel",
     "state": {
      "_model_module": "@jupyter-widgets/base",
      "_model_module_version": "1.2.0",
      "_model_name": "LayoutModel",
      "_view_count": null,
      "_view_module": "@jupyter-widgets/base",
      "_view_module_version": "1.2.0",
      "_view_name": "LayoutView",
      "align_content": null,
      "align_items": null,
      "align_self": null,
      "border": null,
      "bottom": null,
      "display": null,
      "flex": null,
      "flex_flow": null,
      "grid_area": null,
      "grid_auto_columns": null,
      "grid_auto_flow": null,
      "grid_auto_rows": null,
      "grid_column": null,
      "grid_gap": null,
      "grid_row": null,
      "grid_template_areas": null,
      "grid_template_columns": null,
      "grid_template_rows": null,
      "height": null,
      "justify_content": null,
      "justify_items": null,
      "left": null,
      "margin": null,
      "max_height": null,
      "max_width": null,
      "min_height": null,
      "min_width": null,
      "object_fit": null,
      "object_position": null,
      "order": null,
      "overflow": null,
      "overflow_x": null,
      "overflow_y": null,
      "padding": null,
      "right": null,
      "top": null,
      "visibility": null,
      "width": null
     }
    },
    "73b798e99ab14aaeb0af4ea52f2d00f5": {
     "model_module": "@jupyter-widgets/controls",
     "model_module_version": "1.5.0",
     "model_name": "DescriptionStyleModel",
     "state": {
      "_model_module": "@jupyter-widgets/controls",
      "_model_module_version": "1.5.0",
      "_model_name": "DescriptionStyleModel",
      "_view_count": null,
      "_view_module": "@jupyter-widgets/base",
      "_view_module_version": "1.2.0",
      "_view_name": "StyleView",
      "description_width": ""
     }
    },
    "7d3f2e3784fe469080e03c7e1ed6e121": {
     "model_module": "@jupyter-widgets/controls",
     "model_module_version": "1.5.0",
     "model_name": "HTMLModel",
     "state": {
      "_dom_classes": [],
      "_model_module": "@jupyter-widgets/controls",
      "_model_module_version": "1.5.0",
      "_model_name": "HTMLModel",
      "_view_count": null,
      "_view_module": "@jupyter-widgets/controls",
      "_view_module_version": "1.5.0",
      "_view_name": "HTMLView",
      "description": "",
      "description_tooltip": null,
      "layout": "IPY_MODEL_28e7390465b749958902b060178a84d7",
      "placeholder": "​",
      "style": "IPY_MODEL_f827be94a8fd49d4a61de7b9ad1e3fa9",
      "value": " 528M/528M [00:02&lt;00:00, 236MB/s]"
     }
    },
    "8d2f310cc4844f1a87fbecf0240c6d2a": {
     "model_module": "@jupyter-widgets/controls",
     "model_module_version": "1.5.0",
     "model_name": "HTMLModel",
     "state": {
      "_dom_classes": [],
      "_model_module": "@jupyter-widgets/controls",
      "_model_module_version": "1.5.0",
      "_model_name": "HTMLModel",
      "_view_count": null,
      "_view_module": "@jupyter-widgets/controls",
      "_view_module_version": "1.5.0",
      "_view_name": "HTMLView",
      "description": "",
      "description_tooltip": null,
      "layout": "IPY_MODEL_a8abca42108744d5b129cd45e447be4b",
      "placeholder": "​",
      "style": "IPY_MODEL_73b798e99ab14aaeb0af4ea52f2d00f5",
      "value": "100%"
     }
    },
    "91a655d2eb87463cbc460a5f497df7b7": {
     "model_module": "@jupyter-widgets/base",
     "model_module_version": "1.2.0",
     "model_name": "LayoutModel",
     "state": {
      "_model_module": "@jupyter-widgets/base",
      "_model_module_version": "1.2.0",
      "_model_name": "LayoutModel",
      "_view_count": null,
      "_view_module": "@jupyter-widgets/base",
      "_view_module_version": "1.2.0",
      "_view_name": "LayoutView",
      "align_content": null,
      "align_items": null,
      "align_self": null,
      "border": null,
      "bottom": null,
      "display": null,
      "flex": null,
      "flex_flow": null,
      "grid_area": null,
      "grid_auto_columns": null,
      "grid_auto_flow": null,
      "grid_auto_rows": null,
      "grid_column": null,
      "grid_gap": null,
      "grid_row": null,
      "grid_template_areas": null,
      "grid_template_columns": null,
      "grid_template_rows": null,
      "height": null,
      "justify_content": null,
      "justify_items": null,
      "left": null,
      "margin": null,
      "max_height": null,
      "max_width": null,
      "min_height": null,
      "min_width": null,
      "object_fit": null,
      "object_position": null,
      "order": null,
      "overflow": null,
      "overflow_x": null,
      "overflow_y": null,
      "padding": null,
      "right": null,
      "top": null,
      "visibility": null,
      "width": null
     }
    },
    "9a09313140dd445ba3af47848329cd41": {
     "model_module": "@jupyter-widgets/controls",
     "model_module_version": "1.5.0",
     "model_name": "FloatProgressModel",
     "state": {
      "_dom_classes": [],
      "_model_module": "@jupyter-widgets/controls",
      "_model_module_version": "1.5.0",
      "_model_name": "FloatProgressModel",
      "_view_count": null,
      "_view_module": "@jupyter-widgets/controls",
      "_view_module_version": "1.5.0",
      "_view_name": "ProgressView",
      "bar_style": "success",
      "description": "",
      "description_tooltip": null,
      "layout": "IPY_MODEL_1a25e982224a42669fc3db8cee1ba321",
      "max": 46830571,
      "min": 0,
      "orientation": "horizontal",
      "style": "IPY_MODEL_1094543112fb41618d836a08c7ad5953",
      "value": 46830571
     }
    },
    "a557a6e4f21c433686a699021c889eec": {
     "model_module": "@jupyter-widgets/controls",
     "model_module_version": "1.5.0",
     "model_name": "HTMLModel",
     "state": {
      "_dom_classes": [],
      "_model_module": "@jupyter-widgets/controls",
      "_model_module_version": "1.5.0",
      "_model_name": "HTMLModel",
      "_view_count": null,
      "_view_module": "@jupyter-widgets/controls",
      "_view_module_version": "1.5.0",
      "_view_name": "HTMLView",
      "description": "",
      "description_tooltip": null,
      "layout": "IPY_MODEL_91a655d2eb87463cbc460a5f497df7b7",
      "placeholder": "​",
      "style": "IPY_MODEL_51e6bfdde6bc4376b4f75ba3071d2b10",
      "value": " 44.7M/44.7M [00:00&lt;00:00, 97.1MB/s]"
     }
    },
    "a8abca42108744d5b129cd45e447be4b": {
     "model_module": "@jupyter-widgets/base",
     "model_module_version": "1.2.0",
     "model_name": "LayoutModel",
     "state": {
      "_model_module": "@jupyter-widgets/base",
      "_model_module_version": "1.2.0",
      "_model_name": "LayoutModel",
      "_view_count": null,
      "_view_module": "@jupyter-widgets/base",
      "_view_module_version": "1.2.0",
      "_view_name": "LayoutView",
      "align_content": null,
      "align_items": null,
      "align_self": null,
      "border": null,
      "bottom": null,
      "display": null,
      "flex": null,
      "flex_flow": null,
      "grid_area": null,
      "grid_auto_columns": null,
      "grid_auto_flow": null,
      "grid_auto_rows": null,
      "grid_column": null,
      "grid_gap": null,
      "grid_row": null,
      "grid_template_areas": null,
      "grid_template_columns": null,
      "grid_template_rows": null,
      "height": null,
      "justify_content": null,
      "justify_items": null,
      "left": null,
      "margin": null,
      "max_height": null,
      "max_width": null,
      "min_height": null,
      "min_width": null,
      "object_fit": null,
      "object_position": null,
      "order": null,
      "overflow": null,
      "overflow_x": null,
      "overflow_y": null,
      "padding": null,
      "right": null,
      "top": null,
      "visibility": null,
      "width": null
     }
    },
    "b6c763c5ee774acbaaa7358aa3ef98c0": {
     "model_module": "@jupyter-widgets/controls",
     "model_module_version": "1.5.0",
     "model_name": "FloatProgressModel",
     "state": {
      "_dom_classes": [],
      "_model_module": "@jupyter-widgets/controls",
      "_model_module_version": "1.5.0",
      "_model_name": "FloatProgressModel",
      "_view_count": null,
      "_view_module": "@jupyter-widgets/controls",
      "_view_module_version": "1.5.0",
      "_view_name": "ProgressView",
      "bar_style": "success",
      "description": "",
      "description_tooltip": null,
      "layout": "IPY_MODEL_19d47a27ea3849e9a16ba39e51b6d99a",
      "max": 553433881,
      "min": 0,
      "orientation": "horizontal",
      "style": "IPY_MODEL_d845f9b3e86c4126a55dae30fd95c0bd",
      "value": 553433881
     }
    },
    "d2e8758ae0ec4618a7cfabc926044e67": {
     "model_module": "@jupyter-widgets/controls",
     "model_module_version": "1.5.0",
     "model_name": "HTMLModel",
     "state": {
      "_dom_classes": [],
      "_model_module": "@jupyter-widgets/controls",
      "_model_module_version": "1.5.0",
      "_model_name": "HTMLModel",
      "_view_count": null,
      "_view_module": "@jupyter-widgets/controls",
      "_view_module_version": "1.5.0",
      "_view_name": "HTMLView",
      "description": "",
      "description_tooltip": null,
      "layout": "IPY_MODEL_6c1897a2899245f0a1adfd29b556e573",
      "placeholder": "​",
      "style": "IPY_MODEL_fc38870e92474d4dad5cfbb9a52baf7d",
      "value": "100%"
     }
    },
    "d845f9b3e86c4126a55dae30fd95c0bd": {
     "model_module": "@jupyter-widgets/controls",
     "model_module_version": "1.5.0",
     "model_name": "ProgressStyleModel",
     "state": {
      "_model_module": "@jupyter-widgets/controls",
      "_model_module_version": "1.5.0",
      "_model_name": "ProgressStyleModel",
      "_view_count": null,
      "_view_module": "@jupyter-widgets/base",
      "_view_module_version": "1.2.0",
      "_view_name": "StyleView",
      "bar_color": null,
      "description_width": ""
     }
    },
    "f827be94a8fd49d4a61de7b9ad1e3fa9": {
     "model_module": "@jupyter-widgets/controls",
     "model_module_version": "1.5.0",
     "model_name": "DescriptionStyleModel",
     "state": {
      "_model_module": "@jupyter-widgets/controls",
      "_model_module_version": "1.5.0",
      "_model_name": "DescriptionStyleModel",
      "_view_count": null,
      "_view_module": "@jupyter-widgets/base",
      "_view_module_version": "1.2.0",
      "_view_name": "StyleView",
      "description_width": ""
     }
    },
    "f94f458f61e1449580867a4421e6732e": {
     "model_module": "@jupyter-widgets/base",
     "model_module_version": "1.2.0",
     "model_name": "LayoutModel",
     "state": {
      "_model_module": "@jupyter-widgets/base",
      "_model_module_version": "1.2.0",
      "_model_name": "LayoutModel",
      "_view_count": null,
      "_view_module": "@jupyter-widgets/base",
      "_view_module_version": "1.2.0",
      "_view_name": "LayoutView",
      "align_content": null,
      "align_items": null,
      "align_self": null,
      "border": null,
      "bottom": null,
      "display": null,
      "flex": null,
      "flex_flow": null,
      "grid_area": null,
      "grid_auto_columns": null,
      "grid_auto_flow": null,
      "grid_auto_rows": null,
      "grid_column": null,
      "grid_gap": null,
      "grid_row": null,
      "grid_template_areas": null,
      "grid_template_columns": null,
      "grid_template_rows": null,
      "height": null,
      "justify_content": null,
      "justify_items": null,
      "left": null,
      "margin": null,
      "max_height": null,
      "max_width": null,
      "min_height": null,
      "min_width": null,
      "object_fit": null,
      "object_position": null,
      "order": null,
      "overflow": null,
      "overflow_x": null,
      "overflow_y": null,
      "padding": null,
      "right": null,
      "top": null,
      "visibility": null,
      "width": null
     }
    },
    "fc38870e92474d4dad5cfbb9a52baf7d": {
     "model_module": "@jupyter-widgets/controls",
     "model_module_version": "1.5.0",
     "model_name": "DescriptionStyleModel",
     "state": {
      "_model_module": "@jupyter-widgets/controls",
      "_model_module_version": "1.5.0",
      "_model_name": "DescriptionStyleModel",
      "_view_count": null,
      "_view_module": "@jupyter-widgets/base",
      "_view_module_version": "1.2.0",
      "_view_name": "StyleView",
      "description_width": ""
     }
    },
    "fd6b5dc314ac4d9daf40ecc5afcd25f1": {
     "model_module": "@jupyter-widgets/controls",
     "model_module_version": "1.5.0",
     "model_name": "HBoxModel",
     "state": {
      "_dom_classes": [],
      "_model_module": "@jupyter-widgets/controls",
      "_model_module_version": "1.5.0",
      "_model_name": "HBoxModel",
      "_view_count": null,
      "_view_module": "@jupyter-widgets/controls",
      "_view_module_version": "1.5.0",
      "_view_name": "HBoxView",
      "box_style": "",
      "children": [
       "IPY_MODEL_8d2f310cc4844f1a87fbecf0240c6d2a",
       "IPY_MODEL_b6c763c5ee774acbaaa7358aa3ef98c0",
       "IPY_MODEL_7d3f2e3784fe469080e03c7e1ed6e121"
      ],
      "layout": "IPY_MODEL_f94f458f61e1449580867a4421e6732e"
     }
    }
   }
  }
 },
 "nbformat": 4,
 "nbformat_minor": 1
}
